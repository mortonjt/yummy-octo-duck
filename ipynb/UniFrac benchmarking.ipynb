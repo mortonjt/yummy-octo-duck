{
 "cells": [
  {
   "cell_type": "code",
   "execution_count": 1,
   "metadata": {
    "collapsed": false
   },
   "outputs": [],
   "source": [
    "%matplotlib inline\n",
    "from skbio.diversity.beta import unweighted_unifrac, weighted_unifrac, unweighted_unifrac_fast, weighted_unifrac_fast\n",
    "import pandas as pd\n",
    "from qiime_default_reference import get_reference_tree\n",
    "from skbio import TreeNode\n",
    "from skbio.diversity._fast_base import index_tree\n",
    "from biom import load_table\n",
    "from skbio.diversity.beta._fast_unifrac import make_pdist, unifrac, w_unifrac\n",
    "from skbio.diversity.beta import pw_distances\n",
    "import numpy as np\n",
    "\n",
    "np.random.seed(1234)\n",
    "\n",
    "bench_data = load_table('data/AG_even10k.biom')\n",
    "tree = TreeNode.read(get_reference_tree())\n",
    "\n",
    "# correct a missing branchlength in the reference tree\n",
    "for n in tree.traverse(include_self=False):\n",
    "    if n.length is None:\n",
    "        n.length = 0.0\n",
    "        \n",
    "def make_and_run_pw_distances(method, counts, otu_ids, tree, ids=None):\n",
    "    metric, counts_array, length = make_pdist(counts, otu_ids, tree, metric=method)\n",
    "    return pw_distances(metric, counts_array, ids=ids)\n",
    "\n",
    "def get_random_samples(n, tree, shear):\n",
    "    samples = bench_data.subsample(n, by_id=True)\n",
    "    samples.filter(lambda v, i, md: v.sum() > 0, axis='observation')  # remove zero'd observations in place\n",
    "    ids = samples.ids().copy()\n",
    "    otu_ids = samples.ids(axis='observation').copy()\n",
    "    otu_data = samples.matrix_data.toarray().T\n",
    "    if shear:\n",
    "        t = tree.shear(otu_ids)\n",
    "    else:\n",
    "        t = tree.copy()\n",
    "        \n",
    "    return ids, otu_ids, otu_data, t"
   ]
  },
  {
   "cell_type": "markdown",
   "metadata": {},
   "source": [
    "Verify producing the sames results."
   ]
  },
  {
   "cell_type": "code",
   "execution_count": 16,
   "metadata": {
    "collapsed": false
   },
   "outputs": [],
   "source": [
    "import numpy.testing as npt\n",
    "\n",
    "ids, otu_ids, otu_data, t = get_random_samples(10, tree, True)\n",
    "\n",
    "fu_mat = make_and_run_pw_distances(unifrac, otu_data, otu_ids=otu_ids, tree=t)\n",
    "u_mat = pw_distances(unweighted_unifrac, otu_data, otu_ids=otu_ids, tree=t)\n",
    "fwu_mat = make_and_run_pw_distances(w_unifrac, otu_data, otu_ids=otu_ids, tree=t)\n",
    "wu_mat = pw_distances(weighted_unifrac, otu_data, otu_ids=otu_ids, tree=t)\n",
    "\n",
    "npt.assert_almost_equal(fu_mat.data, u_mat.data)\n",
    "npt.assert_almost_equal(fwu_mat.data, wu_mat.data)"
   ]
  },
  {
   "cell_type": "markdown",
   "metadata": {},
   "source": [
    "General timing"
   ]
  },
  {
   "cell_type": "code",
   "execution_count": 17,
   "metadata": {
    "collapsed": false
   },
   "outputs": [
    {
     "name": "stdout",
     "output_type": "stream",
     "text": [
      "10 loops, best of 3: 37 ms per loop\n",
      "1 loops, best of 3: 1.47 s per loop\n",
      "10 loops, best of 3: 46.8 ms per loop\n",
      "1 loops, best of 3: 1.7 s per loop\n"
     ]
    }
   ],
   "source": [
    "%timeit make_and_run_pw_distances(unifrac, otu_data, otu_ids=otu_ids, tree=t)\n",
    "%timeit pw_distances(unweighted_unifrac, otu_data, otu_ids=otu_ids, tree=t)\n",
    "%timeit make_and_run_pw_distances(w_unifrac, otu_data, otu_ids=otu_ids, tree=t)\n",
    "%timeit pw_distances(weighted_unifrac, otu_data, otu_ids=otu_ids, tree=t)"
   ]
  },
  {
   "cell_type": "markdown",
   "metadata": {
    "collapsed": false
   },
   "source": [
    "API testing, making the same method calls and verifying results. Intentionally doing the full matrix in the (very unexpected event) that d(u, v) != d(v, u)"
   ]
  },
  {
   "cell_type": "code",
   "execution_count": 18,
   "metadata": {
    "collapsed": false
   },
   "outputs": [],
   "source": [
    "method_sets = [[unweighted_unifrac, unweighted_unifrac_fast], \n",
    "               [weighted_unifrac, weighted_unifrac_fast]]\n",
    "\n",
    "ids, otu_ids, otu_data, t = get_random_samples(5, tree, True)\n",
    "\n",
    "for i in range(len(otu_data)):\n",
    "    for j in range(len(otu_data)):\n",
    "        for method_set in method_sets:\n",
    "            method_results = []\n",
    "            for method in method_set:\n",
    "                method_results.append(method(otu_data[i], otu_data[j], otu_ids, t))\n",
    "            npt.assert_almost_equal(*method_results)"
   ]
  },
  {
   "cell_type": "markdown",
   "metadata": {},
   "source": [
    "`pw_distances` scaling tests."
   ]
  },
  {
   "cell_type": "code",
   "execution_count": 11,
   "metadata": {
    "collapsed": false
   },
   "outputs": [
    {
     "name": "stdout",
     "output_type": "stream",
     "text": [
      "10 loops, best of 3: 22.2 ms per loop\n",
      "10 loops, best of 3: 23.8 ms per loop\n",
      "100 loops, best of 3: 10.3 ms per loop\n",
      "100 loops, best of 3: 11.8 ms per loop\n",
      "10 loops, best of 3: 137 ms per loop\n",
      "10 loops, best of 3: 155 ms per loop\n",
      "100 loops, best of 3: 17.5 ms per loop\n",
      "10 loops, best of 3: 19.6 ms per loop\n",
      "1 loops, best of 3: 1.33 s per loop\n",
      "1 loops, best of 3: 1.5 s per loop\n",
      "10 loops, best of 3: 55.3 ms per loop\n",
      "10 loops, best of 3: 65.9 ms per loop\n",
      "1 loops, best of 3: 4.62 s per loop\n",
      "1 loops, best of 3: 5.2 s per loop\n",
      "10 loops, best of 3: 54.9 ms per loop\n",
      "10 loops, best of 3: 66.7 ms per loop\n",
      "1 loops, best of 3: 21.8 s per loop\n",
      "1 loops, best of 3: 24.2 s per loop\n",
      "10 loops, best of 3: 107 ms per loop\n",
      "10 loops, best of 3: 129 ms per loop\n",
      "1 loops, best of 3: 1min 48s per loop\n",
      "1 loops, best of 3: 1min 59s per loop\n",
      "1 loops, best of 3: 348 ms per loop\n",
      "1 loops, best of 3: 413 ms per loop\n"
     ]
    },
    {
     "data": {
      "text/plain": [
       "<matplotlib.text.Text at 0x133b50990>"
      ]
     },
     "execution_count": 11,
     "metadata": {},
     "output_type": "execute_result"
    },
    {
     "data": {
      "image/png": "[encoded data removed]",
      "text/plain": [
       "<matplotlib.figure.Figure at 0x136fd0a90>"
      ]
     },
     "metadata": {},
     "output_type": "display_data"
    }
   ],
   "source": [
    "sample_counts = [2, 4, 8, 16, 32, 64]\n",
    "uw_times = []\n",
    "uwf_times = []\n",
    "w_times = []\n",
    "wf_times = []\n",
    "\n",
    "for n_samples in sample_counts:\n",
    "    ids, otu_ids, otu_data, t = get_random_samples(n_samples, tree, True)\n",
    "\n",
    "    for times, method in [[uw_times, unweighted_unifrac], [w_times, weighted_unifrac]]:\n",
    "        result = %timeit -o pw_distances(method, otu_data, otu_ids=otu_ids, tree=t)\n",
    "        times.append(result.best)\n",
    "\n",
    "    for times, method in [[uwf_times, unifrac], [wf_times, w_unifrac]]:\n",
    "        result = %timeit -o make_and_run_pw_distances(method, otu_data, otu_ids=otu_ids, tree=t)\n",
    "        times.append(result.best)     \n",
    "plot(sample_counts, uw_times)\n",
    "plot(sample_counts, uwf_times)\n",
    "plot(sample_counts, w_times)\n",
    "plot(sample_counts, wf_times)\n",
    "legend(['unweighted, edu', 'unweighted, fast', 'weighted, edu', 'weighted, fast'], loc=0)\n",
    "title(\"pw_distances scaling, with sheared trees\")\n",
    "xlabel('number of samples')\n",
    "ylabel('time (seconds)')\n",
    "xscale('log')\n",
    "yscale('log')\n",
    "savefig('edu vs fast.png')"
   ]
  }
 ],
 "metadata": {
  "kernelspec": {
   "display_name": "Python 2",
   "language": "python",
   "name": "python2"
  },
  "language_info": {
   "codemirror_mode": {
    "name": "ipython",
    "version": 2
   },
   "file_extension": ".py",
   "mimetype": "text/x-python",
   "name": "python",
   "nbconvert_exporter": "python",
   "pygments_lexer": "ipython2",
   "version": "2.7.10"
  }
 },
 "nbformat": 4,
 "nbformat_minor": 0
}
