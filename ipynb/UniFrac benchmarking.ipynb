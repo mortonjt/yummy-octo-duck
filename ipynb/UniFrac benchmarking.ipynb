{
 "cells": [
  {
   "cell_type": "code",
   "execution_count": 1,
   "metadata": {
    "collapsed": false
   },
   "outputs": [],
   "source": [
    "%matplotlib inline\n",
    "from skbio.diversity.beta import unweighted_unifrac, weighted_unifrac, unweighted_unifrac_fast, weighted_unifrac_fast\n",
    "import pandas as pd\n",
    "from qiime_default_reference import get_reference_tree\n",
    "from skbio import TreeNode\n",
    "from skbio.diversity._fast_base import index_tree\n",
    "from biom import load_table\n",
    "from skbio.diversity.beta._fast_unifrac import make_pdist, unifrac, w_unifrac\n",
    "from skbio.diversity.beta import pw_distances\n",
    "import numpy as np\n",
    "\n",
    "np.random.seed(1234)\n",
    "\n",
    "bench_data = load_table('data/AG_even10k.biom')\n",
    "tree = TreeNode.read(get_reference_tree())\n",
    "\n",
    "# correct a missing branchlength in the reference tree\n",
    "for n in tree.traverse(include_self=False):\n",
    "    if n.length is None:\n",
    "        n.length = 0.0\n",
    "        \n",
    "def make_and_run_pw_distances(method, counts, otu_ids, tree, normalized=False, ids=None):\n",
    "    metric, counts_array, length = make_pdist(counts, otu_ids, tree, normalized=normalized, metric=method)\n",
    "    return pw_distances(metric, counts_array, ids=ids)\n",
    "\n",
    "def get_random_samples(n, tree, shear):\n",
    "    samples = bench_data.subsample(n, by_id=True)\n",
    "    samples.filter(lambda v, i, md: v.sum() > 0, axis='observation')  # remove zero'd observations in place\n",
    "    ids = samples.ids().copy()\n",
    "    otu_ids = samples.ids(axis='observation').copy()\n",
    "    otu_data = samples.matrix_data.toarray().T\n",
    "    if shear:\n",
    "        t = tree.shear(otu_ids)\n",
    "    else:\n",
    "        t = tree.copy()\n",
    "        \n",
    "    return ids, otu_ids, otu_data, t"
   ]
  },
  {
   "cell_type": "markdown",
   "metadata": {},
   "source": [
    "Verify producing the sames results."
   ]
  },
  {
   "cell_type": "code",
   "execution_count": 2,
   "metadata": {
    "collapsed": false
   },
   "outputs": [],
   "source": [
    "import numpy.testing as npt\n",
    "\n",
    "ids, otu_ids, otu_data, t = get_random_samples(10, tree, True)\n",
    "\n",
    "fu_mat = make_and_run_pw_distances(unifrac, otu_data, otu_ids=otu_ids, tree=t)\n",
    "u_mat = pw_distances(unweighted_unifrac, otu_data, otu_ids=otu_ids, tree=t)\n",
    "fwu_mat = make_and_run_pw_distances(w_unifrac, otu_data, otu_ids=otu_ids, tree=t)\n",
    "wu_mat = pw_distances(weighted_unifrac, otu_data, otu_ids=otu_ids, tree=t)\n",
    "fwun_mat = make_and_run_pw_distances(w_unifrac, otu_data, otu_ids=otu_ids, tree=t, normalized=True)\n",
    "wun_mat = pw_distances(weighted_unifrac, otu_data, otu_ids=otu_ids, tree=t, normalized=True)\n",
    "\n",
    "npt.assert_almost_equal(fu_mat.data, u_mat.data)\n",
    "npt.assert_almost_equal(fwu_mat.data, wu_mat.data)\n",
    "npt.assert_almost_equal(fwun_mat.data, wun_mat.data)"
   ]
  },
  {
   "cell_type": "markdown",
   "metadata": {},
   "source": [
    "General timing"
   ]
  },
  {
   "cell_type": "code",
   "execution_count": 3,
   "metadata": {
    "collapsed": false
   },
   "outputs": [
    {
     "name": "stdout",
     "output_type": "stream",
     "text": [
      "10 loops, best of 3: 35.6 ms per loop\n",
      "1 loops, best of 3: 1.28 s per loop\n",
      "10 loops, best of 3: 31.9 ms per loop\n",
      "1 loops, best of 3: 1.43 s per loop\n",
      "10 loops, best of 3: 33.7 ms per loop\n",
      "1 loops, best of 3: 1.88 s per loop\n"
     ]
    }
   ],
   "source": [
    "%timeit make_and_run_pw_distances(unifrac, otu_data, otu_ids=otu_ids, tree=t)\n",
    "%timeit pw_distances(unweighted_unifrac, otu_data, otu_ids=otu_ids, tree=t)\n",
    "%timeit make_and_run_pw_distances(w_unifrac, otu_data, otu_ids=otu_ids, tree=t)\n",
    "%timeit pw_distances(weighted_unifrac, otu_data, otu_ids=otu_ids, tree=t)\n",
    "%timeit make_and_run_pw_distances(w_unifrac, otu_data, otu_ids=otu_ids, tree=t, normalized=True)\n",
    "%timeit pw_distances(weighted_unifrac, otu_data, otu_ids=otu_ids, tree=t, normalized=True)"
   ]
  },
  {
   "cell_type": "markdown",
   "metadata": {
    "collapsed": false
   },
   "source": [
    "API testing, making the same method calls and verifying results. Intentionally doing the full matrix in the (very unexpected event) that d(u, v) != d(v, u)"
   ]
  },
  {
   "cell_type": "code",
   "execution_count": 4,
   "metadata": {
    "collapsed": false
   },
   "outputs": [],
   "source": [
    "method_sets = [[unweighted_unifrac, unweighted_unifrac_fast], \n",
    "               [weighted_unifrac, weighted_unifrac_fast]]\n",
    "\n",
    "ids, otu_ids, otu_data, t = get_random_samples(5, tree, True)\n",
    "\n",
    "for i in range(len(otu_data)):\n",
    "    for j in range(len(otu_data)):\n",
    "        for method_set in method_sets:\n",
    "            method_results = []\n",
    "            for method in method_set:\n",
    "                method_results.append(method(otu_data[i], otu_data[j], otu_ids, t))\n",
    "            npt.assert_almost_equal(*method_results)"
   ]
  },
  {
   "cell_type": "markdown",
   "metadata": {},
   "source": [
    "`pw_distances` scaling tests."
   ]
  },
  {
   "cell_type": "code",
   "execution_count": 5,
   "metadata": {
    "collapsed": false
   },
   "outputs": [
    {
     "name": "stdout",
     "output_type": "stream",
     "text": [
      "10 loops, best of 3: 35.6 ms per loop\n",
      "10 loops, best of 3: 23.7 ms per loop\n",
      "10 loops, best of 3: 30.5 ms per loop\n",
      "100 loops, best of 3: 9.84 ms per loop\n",
      "100 loops, best of 3: 12 ms per loop\n",
      "100 loops, best of 3: 12.4 ms per loop\n",
      "1 loops, best of 3: 385 ms per loop\n",
      "1 loops, best of 3: 384 ms per loop\n",
      "1 loops, best of 3: 427 ms per loop\n",
      "1 loops, best of 3: 1.76 s per loop\n",
      "1 loops, best of 3: 1.67 s per loop\n",
      "1 loops, best of 3: 2.08 s per loop\n",
      "10 loops, best of 3: 166 ms per loop\n",
      "1 loops, best of 3: 235 ms per loop\n",
      "1 loops, best of 3: 210 ms per loop\n",
      "100 loops, best of 3: 16.7 ms per loop\n",
      "100 loops, best of 3: 16.9 ms per loop\n",
      "10 loops, best of 3: 25.2 ms per loop\n",
      "1 loops, best of 3: 2.42 s per loop\n",
      "1 loops, best of 3: 2.68 s per loop\n",
      "1 loops, best of 3: 2.46 s per loop\n",
      "1 loops, best of 3: 1.63 s per loop\n",
      "1 loops, best of 3: 1.81 s per loop\n",
      "1 loops, best of 3: 1.87 s per loop\n",
      "1 loops, best of 3: 641 ms per loop\n",
      "1 loops, best of 3: 814 ms per loop\n",
      "1 loops, best of 3: 1.06 s per loop\n",
      "10 loops, best of 3: 31.6 ms per loop\n",
      "10 loops, best of 3: 30.1 ms per loop\n",
      "10 loops, best of 3: 30.5 ms per loop\n",
      "1 loops, best of 3: 10.8 s per loop\n",
      "1 loops, best of 3: 10.6 s per loop\n",
      "1 loops, best of 3: 11 s per loop\n",
      "1 loops, best of 3: 1.73 s per loop\n",
      "1 loops, best of 3: 1.78 s per loop\n",
      "1 loops, best of 3: 2 s per loop\n",
      "1 loops, best of 3: 5.69 s per loop\n",
      "1 loops, best of 3: 7.96 s per loop\n",
      "1 loops, best of 3: 10.3 s per loop\n",
      "10 loops, best of 3: 100 ms per loop\n",
      "10 loops, best of 3: 104 ms per loop\n",
      "10 loops, best of 3: 118 ms per loop\n",
      "1 loops, best of 3: 45.2 s per loop\n",
      "1 loops, best of 3: 46.8 s per loop\n",
      "1 loops, best of 3: 51.2 s per loop\n",
      "1 loops, best of 3: 1.82 s per loop\n",
      "1 loops, best of 3: 2.16 s per loop\n",
      "1 loops, best of 3: 2.49 s per loop\n",
      "1 loops, best of 3: 19.6 s per loop\n",
      "1 loops, best of 3: 22.9 s per loop\n",
      "1 loops, best of 3: 32.2 s per loop\n",
      "10 loops, best of 3: 123 ms per loop\n",
      "10 loops, best of 3: 119 ms per loop\n",
      "10 loops, best of 3: 157 ms per loop\n",
      "1 loops, best of 3: 3min 11s per loop\n",
      "1 loops, best of 3: 3min 16s per loop\n",
      "1 loops, best of 3: 3min 28s per loop\n",
      "1 loops, best of 3: 2.7 s per loop\n",
      "1 loops, best of 3: 2.9 s per loop\n",
      "1 loops, best of 3: 3.73 s per loop\n"
     ]
    }
   ],
   "source": [
    "sample_counts = [2, 4, 8, 16, 32]\n",
    "\n",
    "uw_times = []\n",
    "uwf_times = []\n",
    "w_times = []\n",
    "wn_times = []\n",
    "wf_times = []\n",
    "wnf_times = []\n",
    "uw_times_p = []\n",
    "uwf_times_p = []\n",
    "w_times_p = []\n",
    "wn_times_p = []\n",
    "wf_times_p = []\n",
    "wnf_times_p = []\n",
    "\n",
    "for n_samples in sample_counts:\n",
    "    ids, otu_ids, otu_data, t = get_random_samples(n_samples, tree, True)\n",
    "\n",
    "    # sheared trees\n",
    "    for times, method in [[uw_times_p, unweighted_unifrac], [w_times_p, weighted_unifrac]]:\n",
    "        result = %timeit -o pw_distances(method, otu_data, otu_ids=otu_ids, tree=t)\n",
    "        times.append(result.best)\n",
    "\n",
    "    result = %timeit -o pw_distances(weighted_unifrac, otu_data, otu_ids=otu_ids, tree=t, normalized=True)\n",
    "    wn_times_p.append(result.best)\n",
    "    \n",
    "    for times, method in [[uwf_times_p, unifrac], [wf_times_p, w_unifrac]]:\n",
    "        result = %timeit -o make_and_run_pw_distances(method, otu_data, otu_ids=otu_ids, tree=t)\n",
    "        times.append(result.best)     \n",
    "\n",
    "    result = %timeit -o make_and_run_pw_distances(w_unifrac, otu_data, otu_ids=otu_ids, tree=t, normalized=True)\n",
    "    wnf_times_p.append(result.best)     \n",
    "    \n",
    "    # full trees\n",
    "    for times, method in [[uw_times, unweighted_unifrac], [w_times, weighted_unifrac]]:\n",
    "        result = %timeit -o pw_distances(method, otu_data, otu_ids=otu_ids, tree=tree)\n",
    "        times.append(result.best)\n",
    "\n",
    "    result = %timeit -o pw_distances(weighted_unifrac, otu_data, otu_ids=otu_ids, tree=tree, normalized=True)\n",
    "    wn_times.append(result.best)    \n",
    "        \n",
    "    for times, method in [[uwf_times, unifrac], [wf_times, w_unifrac]]:\n",
    "        result = %timeit -o make_and_run_pw_distances(method, otu_data, otu_ids=otu_ids, tree=tree)\n",
    "        times.append(result.best)     \n",
    "\n",
    "    result = %timeit -o make_and_run_pw_distances(w_unifrac, otu_data, otu_ids=otu_ids, tree=tree, normalized=True)\n",
    "    wnf_times.append(result.best)     "
   ]
  },
  {
   "cell_type": "code",
   "execution_count": 8,
   "metadata": {
    "collapsed": false
   },
   "outputs": [
    {
     "name": "stdout",
     "output_type": "stream",
     "text": [
      "u\t: unweighted unifrac\n",
      "w\t: weighted unifrac\n",
      "fu\t: unweighted fast unifrac\n",
      "fw\t: weighted fast unifrac\n",
      "wn\t: weighted normalized unifrac\n",
      "fwn\t: weighted normalized fast unifrac\n",
      "u-p\t: unweighted unifrac pruned tree\n",
      "w-p\t: weighted unifrac pruned tree\n",
      "fu-p\t: unweighted fast unifrac pruned tree\n",
      "fw-p\t: weighted fast unifrac pruned tree\n",
      "wn-p\t: weighted normalized unifrac pruned tree\n",
      "fwn-p\t: weighted normalized fast unifrac pruned tree\n"
     ]
    },
    {
     "data": {
      "image/png": "[encoded data removed]",
      "text/plain": [
       "<matplotlib.figure.Figure at 0x12ad26510>"
      ]
     },
     "metadata": {},
     "output_type": "display_data"
    }
   ],
   "source": [
    "fig = figure(figsize=(6,6))\n",
    "plot(sample_counts, uw_times, '--', color='blue')\n",
    "plot(sample_counts, w_times, '--', color='cyan')\n",
    "plot(sample_counts, uwf_times, '--', color='red')\n",
    "plot(sample_counts, wf_times, '--', color='orange')\n",
    "plot(sample_counts, wn_times, '--', color='green')\n",
    "plot(sample_counts, wnf_times, '--', color='black')\n",
    "\n",
    "plot(sample_counts, uw_times_p, color='blue')\n",
    "plot(sample_counts, w_times_p, color='cyan')\n",
    "plot(sample_counts, uwf_times_p, color='red')\n",
    "plot(sample_counts, wf_times_p, color='orange')\n",
    "plot(sample_counts, wn_times_p, color='green')\n",
    "plot(sample_counts, wnf_times_p, color='black')\n",
    "\n",
    "legend_acronyms = [\n",
    "    ('u', 'unweighted unifrac'), \n",
    "    ('w', 'weighted unifrac'), \n",
    "    ('fu', 'unweighted fast unifrac'), \n",
    "    ('fw', 'weighted fast unifrac'), \n",
    "    ('wn', 'weighted normalized unifrac'), \n",
    "    ('fwn', 'weighted normalized fast unifrac'), \n",
    "    ('u-p', 'unweighted unifrac pruned tree'), \n",
    "    ('w-p', 'weighted unifrac pruned tree'), \n",
    "    ('fu-p', 'unweighted fast unifrac pruned tree'), \n",
    "    ('fw-p', 'weighted fast unifrac pruned tree'), \n",
    "    ('wn-p', 'weighted normalized unifrac pruned tree'), \n",
    "    ('fwn-p', 'weighted normalized fast unifrac pruned tree')\n",
    "]\n",
    "\n",
    "legend([i[0] for i in legend_acronyms], loc=2)\n",
    "title(\"pw_distances scaling, with full trees\")\n",
    "xlabel('number of samples', fontsize=15)\n",
    "ylabel('time (seconds)', fontsize=15)\n",
    "xscale('log', basex=2)\n",
    "yscale('log')\n",
    "xlim(min(sample_counts), max(sample_counts))\n",
    "ylim(min(uwf_times_p), max(w_times))\n",
    "tick_params(axis='both', which='major', labelsize=12)\n",
    "tick_params(axis='both', which='minor', labelsize=12)\n",
    "savefig('edu vs fast.png')\n",
    "\n",
    "for ac, name in legend_acronyms:\n",
    "    print(\"%s\\t: %s\" % (ac, name))"
   ]
  },
  {
   "cell_type": "code",
   "execution_count": null,
   "metadata": {
    "collapsed": true
   },
   "outputs": [],
   "source": []
  }
 ],
 "metadata": {
  "kernelspec": {
   "display_name": "Python 2",
   "language": "python",
   "name": "python2"
  },
  "language_info": {
   "codemirror_mode": {
    "name": "ipython",
    "version": 2
   },
   "file_extension": ".py",
   "mimetype": "text/x-python",
   "name": "python",
   "nbconvert_exporter": "python",
   "pygments_lexer": "ipython2",
   "version": "2.7.10"
  }
 },
 "nbformat": 4,
 "nbformat_minor": 0
}
