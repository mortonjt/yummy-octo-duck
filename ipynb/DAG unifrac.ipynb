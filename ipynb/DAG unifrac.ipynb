{
 "cells": [
  {
   "cell_type": "code",
   "execution_count": 1,
   "metadata": {
    "collapsed": false
   },
   "outputs": [],
   "source": [
    "%matplotlib inline"
   ]
  },
  {
   "cell_type": "code",
   "execution_count": 2,
   "metadata": {
    "collapsed": false
   },
   "outputs": [
    {
     "name": "stdout",
     "output_type": "stream",
     "text": [
      "1.10\n"
     ]
    }
   ],
   "source": [
    "import networkx as nx\n",
    "from skbio import TreeNode\n",
    "from skbio.diversity.beta._unifrac import _validate\n",
    "from skbio.diversity._base import _validate_counts_vectors"
   ]
  },
  {
   "cell_type": "code",
   "execution_count": 181,
   "metadata": {
    "collapsed": false
   },
   "outputs": [],
   "source": [
    "def _get_mst(graph, tips, reference_node):\n",
    "    \"\"\"Get the MST for an environment\n",
    "    \n",
    "    This method is algorithmically stupid, will not scale, and needs to be\n",
    "    revisited.\n",
    "    \"\"\"\n",
    "    # determine a plausible set of nodes that correspond to the environment\n",
    "    nodes = set()\n",
    "    for tip in tips:\n",
    "        nodes.update(set(nx.shortest_path(graph, source=tip, target=reference_node)))\n",
    "    \n",
    "    # compute the MST (nx.minimum_spanning_tree is undefined for directed graphs)\n",
    "    directed = graph.subgraph(nodes)\n",
    "    mst = nx.minimum_spanning_tree(directed.to_undirected())\n",
    "    \n",
    "    # coerce the undirected MST back to a digraph\n",
    "    m_e = mst.edges()\n",
    "    E = [(i,o,w) for i,o,w in directed.edges_iter(data=True) if ((i,o) in m_e or (o,i) in m_e)]\n",
    "    directed_mst = nx.DiGraph(E)\n",
    "    \n",
    "    return directed_mst\n",
    "\n",
    "def _treenode_to_graph(tree):\n",
    "    \"\"\"Take a skbio TreeNode and convert it into a DiGraph\"\"\"\n",
    "    g = nx.DiGraph()\n",
    "\n",
    "    label_base = '_int-%d'\n",
    "    tree.assign_ids()\n",
    "    for node in tree.preorder(include_self=False):\n",
    "        if node.name is None:\n",
    "            node.name = label_base % node.id\n",
    "        \n",
    "        if node.parent.is_root():\n",
    "            g.add_edge(node.name, 'root', weight=node.length)\n",
    "        else:\n",
    "            g.add_edge(node.name, node.parent.name, weight=node.length)\n",
    "    return g\n",
    "\n",
    "def unweighted_unifrac_uag(u_counts, v_counts, otu_ids, graph, validate=True):\n",
    "    \"\"\"Compute unweighted unifrac over a directed acyclic graph\n",
    "    \n",
    "    The computation relies on the presence of a root. But, in the general case of a DAG,\n",
    "    calling this node a \"root\" does not make sense. Instead, the code labels this node as\n",
    "    the reference_node. The intuition being that all comparisons are relative to this\n",
    "    node. In the case of a skbio TreeNode being passed in, the method will use the root\n",
    "    of the tree as the reference. The determination of a reference for a DAG is open, and\n",
    "    right now, an arbitary node is picked. This is _not_ a good idea as it is not assured\n",
    "    to be stable on pairwise operations and how this choice is made needs to be revisited.\n",
    "    \"\"\"\n",
    "    # do the validation and conversion to a DAG as needed. This likely should be \n",
    "    # decomposed.\n",
    "    if isinstance(graph, TreeNode):\n",
    "        if validate:\n",
    "            _validate(u_counts=u_counts, v_counts=v_counts,\n",
    "                      otu_ids=otu_ids, tree=graph)\n",
    "        graph = _treenode_to_graph(graph)\n",
    "    else:\n",
    "        if validate:\n",
    "            _validate_counts_vectors(u_counts, v_counts, suppress_cast=True)\n",
    "    \n",
    "    # handle boundary cases\n",
    "    if sum(u_counts) == 0 or sum(v_counts) == 0 or len(u_counts) == 0 or len(v_counts) == 0:\n",
    "        if sum(u_counts) + sum(v_counts) == 0:\n",
    "            return 0.0\n",
    "        else:\n",
    "            return 1.0\n",
    "    \n",
    "    # determine a reference point\n",
    "    if graph.has_node('root'):\n",
    "        reference_node = 'root'\n",
    "    else:        \n",
    "        # pick an arbitrary point of reference that is not an observation of interest.\n",
    "        # this is not stable across method calls and needs to be revisited.\n",
    "        reference_node = sorted([n for n in graph.nodes() if n not in otu_ids])[-1]\n",
    "    \n",
    "    # determine what IDs are represented in each environment\n",
    "    u_ids = [i for u, i in zip(u_counts, otu_ids) if u]\n",
    "    v_ids = [i for v, i in zip(v_counts, otu_ids) if v]\n",
    "\n",
    "    # get all the minimum spanning tree for each environment\n",
    "    u_sg = _get_mst(graph, u_ids, reference_node)\n",
    "    v_sg = _get_mst(graph, v_ids, reference_node)\n",
    "    \n",
    "    # determine what edges are shared between environments and merge those \n",
    "    # networks\n",
    "    shared_edges = set(u_sg.edges()).intersection(set(v_sg.edges()))\n",
    "    shared_sg = graph.subgraph(set(flatten(shared_edges)))\n",
    "\n",
    "    # determine the total length observed in the network \n",
    "    total_sg = graph.subgraph(set(u_sg.nodes()) | set(v_sg.nodes()))\n",
    "    \n",
    "    # compute unifrac\n",
    "    return (total_sg.size(weight='weight') - shared_sg.size(weight='weight')) / total_sg.size(weight='weight')    "
   ]
  },
  {
   "cell_type": "code",
   "execution_count": 180,
   "metadata": {
    "collapsed": false
   },
   "outputs": [
    {
     "name": "stderr",
     "output_type": "stream",
     "text": [
      "F.........FEFF.EFEE.EFE\n",
      "======================================================================\n",
      "ERROR: test_weighted_normalized_root_not_observed (__main__.NetworkUniFracTests)\n",
      "----------------------------------------------------------------------\n",
      "Traceback (most recent call last):\n",
      "  File \"/Users/mcdonadt/ResearchWork/software/scikit-bio/skbio/diversity/beta/tests/test_unifrac_base.py\", line 142, in test_weighted_normalized_root_not_observed\n",
      "    self.oids2, self.t2, normalized=True)\n",
      "TypeError: <lambda>() got an unexpected keyword argument 'normalized'\n",
      "\n",
      "======================================================================\n",
      "ERROR: test_weighted_unifrac_identity_normalized (__main__.NetworkUniFracTests)\n",
      "----------------------------------------------------------------------\n",
      "Traceback (most recent call last):\n",
      "  File \"/Users/mcdonadt/ResearchWork/software/scikit-bio/skbio/diversity/beta/tests/test_unifrac_base.py\", line 499, in test_weighted_unifrac_identity_normalized\n",
      "    self.b1[i], self.b1[i], self.oids1, self.t1, normalized=True)\n",
      "TypeError: <lambda>() got an unexpected keyword argument 'normalized'\n",
      "\n",
      "======================================================================\n",
      "ERROR: test_weighted_unifrac_non_overlapping_normalized (__main__.NetworkUniFracTests)\n",
      "----------------------------------------------------------------------\n",
      "Traceback (most recent call last):\n",
      "  File \"/Users/mcdonadt/ResearchWork/software/scikit-bio/skbio/diversity/beta/tests/test_unifrac_base.py\", line 517, in test_weighted_unifrac_non_overlapping_normalized\n",
      "    self.b1[4], self.b1[5], self.oids1, self.t1, normalized=True)\n",
      "TypeError: <lambda>() got an unexpected keyword argument 'normalized'\n",
      "\n",
      "======================================================================\n",
      "ERROR: test_weighted_unifrac_normalized (__main__.NetworkUniFracTests)\n",
      "----------------------------------------------------------------------\n",
      "Traceback (most recent call last):\n",
      "  File \"/Users/mcdonadt/ResearchWork/software/scikit-bio/skbio/diversity/beta/tests/test_unifrac_base.py\", line 550, in test_weighted_unifrac_normalized\n",
      "    self.b1[0], self.b1[1], self.oids1, self.t1, normalized=True)\n",
      "TypeError: <lambda>() got an unexpected keyword argument 'normalized'\n",
      "\n",
      "======================================================================\n",
      "ERROR: test_weighted_unifrac_symmetry_normalized (__main__.NetworkUniFracTests)\n",
      "----------------------------------------------------------------------\n",
      "Traceback (most recent call last):\n",
      "  File \"/Users/mcdonadt/ResearchWork/software/scikit-bio/skbio/diversity/beta/tests/test_unifrac_base.py\", line 508, in test_weighted_unifrac_symmetry_normalized\n",
      "    normalized=True)\n",
      "TypeError: <lambda>() got an unexpected keyword argument 'normalized'\n",
      "\n",
      "======================================================================\n",
      "ERROR: test_weighted_unifrac_zero_counts_normalized (__main__.NetworkUniFracTests)\n",
      "----------------------------------------------------------------------\n",
      "Traceback (most recent call last):\n",
      "  File \"/Users/mcdonadt/ResearchWork/software/scikit-bio/skbio/diversity/beta/tests/test_unifrac_base.py\", line 532, in test_weighted_unifrac_zero_counts_normalized\n",
      "    normalized=True)\n",
      "TypeError: <lambda>() got an unexpected keyword argument 'normalized'\n",
      "\n",
      "======================================================================\n",
      "FAIL: test_invalid_input (__main__.NetworkUniFracTests)\n",
      "----------------------------------------------------------------------\n",
      "Traceback (most recent call last):\n",
      "  File \"/Users/mcdonadt/ResearchWork/software/scikit-bio/skbio/diversity/beta/tests/test_unifrac_base.py\", line 184, in test_invalid_input\n",
      "    v_counts, otu_ids, t)\n",
      "AssertionError: DuplicateNodeError not raised by <lambda>\n",
      "\n",
      "======================================================================\n",
      "FAIL: test_weighted_minimal_trees (__main__.NetworkUniFracTests)\n",
      "----------------------------------------------------------------------\n",
      "Traceback (most recent call last):\n",
      "  File \"/Users/mcdonadt/ResearchWork/software/scikit-bio/skbio/diversity/beta/tests/test_unifrac_base.py\", line 95, in test_weighted_minimal_trees\n",
      "    self.assertEqual(actual, expected)\n",
      "AssertionError: 0.0 != 0.25\n",
      "\n",
      "======================================================================\n",
      "FAIL: test_weighted_root_not_observed (__main__.NetworkUniFracTests)\n",
      "----------------------------------------------------------------------\n",
      "Traceback (most recent call last):\n",
      "  File \"/Users/mcdonadt/ResearchWork/software/scikit-bio/skbio/diversity/beta/tests/test_unifrac_base.py\", line 128, in test_weighted_root_not_observed\n",
      "    self.assertAlmostEqual(actual, expected)\n",
      "AssertionError: 0.0 != 0.15 within 7 places\n",
      "\n",
      "======================================================================\n",
      "FAIL: test_weighted_unifrac (__main__.NetworkUniFracTests)\n",
      "----------------------------------------------------------------------\n",
      "Traceback (most recent call last):\n",
      "  File \"/Users/mcdonadt/ResearchWork/software/scikit-bio/skbio/diversity/beta/tests/test_unifrac_base.py\", line 434, in test_weighted_unifrac\n",
      "    self.assertAlmostEqual(actual, expected)\n",
      "AssertionError: 0.0 != 2.4 within 7 places\n",
      "\n",
      "======================================================================\n",
      "FAIL: test_weighted_unifrac_non_overlapping (__main__.NetworkUniFracTests)\n",
      "----------------------------------------------------------------------\n",
      "Traceback (most recent call last):\n",
      "  File \"/Users/mcdonadt/ResearchWork/software/scikit-bio/skbio/diversity/beta/tests/test_unifrac_base.py\", line 408, in test_weighted_unifrac_non_overlapping\n",
      "    self.assertAlmostEqual(actual, expected)\n",
      "AssertionError: 0.0 != 4.0 within 7 places\n",
      "\n",
      "======================================================================\n",
      "FAIL: test_weighted_unifrac_zero_counts (__main__.NetworkUniFracTests)\n",
      "----------------------------------------------------------------------\n",
      "Traceback (most recent call last):\n",
      "  File \"/Users/mcdonadt/ResearchWork/software/scikit-bio/skbio/diversity/beta/tests/test_unifrac_base.py\", line 421, in test_weighted_unifrac_zero_counts\n",
      "    self.assertAlmostEqual(actual, expected)\n",
      "AssertionError: 0.0 != 2.0 within 7 places\n",
      "\n",
      "----------------------------------------------------------------------\n",
      "Ran 23 tests in 0.370s\n",
      "\n",
      "FAILED (failures=6, errors=6)\n"
     ]
    },
    {
     "data": {
      "text/plain": [
       "<unittest.runner.TextTestResult run=23 errors=6 failures=6>"
      ]
     },
     "execution_count": 180,
     "metadata": {},
     "output_type": "execute_result"
    }
   ],
   "source": [
    "from skbio.diversity.beta.tests.test_unifrac_base import StatsTests\n",
    "from unittest import TestCase, TestLoader, TextTestRunner\n",
    "\n",
    "class NetworkUniFracTests(StatsTests, TestCase):\n",
    "    _method = {'unweighted_unifrac': unweighted_unifrac_uag,\n",
    "               'weighted_unifrac': lambda w, x, y, z: 0.0}\n",
    "\n",
    "suite = TestLoader().loadTestsFromTestCase(NetworkUniFracTests)\n",
    "TextTestRunner(verbosity=1,stream=sys.stderr).run( suite )"
   ]
  },
  {
   "cell_type": "code",
   "execution_count": 7,
   "metadata": {
    "collapsed": false
   },
   "outputs": [],
   "source": [
    "def _get_all_nodes_weighted(graph, ids, weights):\n",
    "    nodes = []\n",
    "    weights = []\n",
    "    for i in zip(range(len) - 1):\n",
    "        for node in nx.shortest_path(graph, source=ids[i], target=ids[i+1]):\n",
    "            nodes.append(node)\n",
    "            weights.append(weights[])\n",
    "        \n",
    "\n",
    "def weighted_unifrac_uag(u_counts, v_counts, otu_ids, graph):\n",
    "    u_ids = [i for u, i in zip(u_counts, otu_ids) if u]\n",
    "    u_w   = [u for u, i in zip(u_counts, otu_ids) if u]\n",
    "    v_ids = [i for v, i in zip(v_counts, otu_ids) if v]\n",
    "    v_w   = [v for v, i in zip(v_counts, otu_ids) if v]\n",
    "    \n",
    "    u_nodes, u_weights = _get_all_nodes_weighted(graph, u_ids, u_w)\n",
    "    v_nodes, v_weights = _get_all_nodes_weighted(graph, v_ids, v_w)\n",
    "\n",
    "    "
   ]
  },
  {
   "cell_type": "code",
   "execution_count": 144,
   "metadata": {
    "collapsed": false
   },
   "outputs": [
    {
     "data": {
      "text/plain": [
       "{(1, 2), (2, 3)}"
      ]
     },
     "execution_count": 144,
     "metadata": {},
     "output_type": "execute_result"
    }
   ],
   "source": [
    "import networkx as nx\n",
    "G1 = nx.Graph()\n",
    "G1.add_path([0,1,2,3])\n",
    "G2 = nx.Graph()\n",
    "G2.add_path([1,2,3,4])\n",
    "set(G1.edges()).intersection(G2.edges())"
   ]
  },
  {
   "cell_type": "code",
   "execution_count": 164,
   "metadata": {
    "collapsed": true
   },
   "outputs": [],
   "source": [
    "?nx.minimum_spanning_tree"
   ]
  },
  {
   "cell_type": "code",
   "execution_count": null,
   "metadata": {
    "collapsed": true
   },
   "outputs": [],
   "source": []
  }
 ],
 "metadata": {
  "kernelspec": {
   "display_name": "Python 3",
   "language": "python",
   "name": "python3"
  },
  "language_info": {
   "codemirror_mode": {
    "name": "ipython",
    "version": 3
   },
   "file_extension": ".py",
   "mimetype": "text/x-python",
   "name": "python",
   "nbconvert_exporter": "python",
   "pygments_lexer": "ipython3",
   "version": "3.4.3"
  }
 },
 "nbformat": 4,
 "nbformat_minor": 0
}
