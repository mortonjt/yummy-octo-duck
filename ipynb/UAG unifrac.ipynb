{
 "metadata": {
  "name": "",
  "signature": "sha256:75a8a4fe978233f9d746391178537d3ef733384cec1f3f11b501fbd4ef8a30d7"
 },
 "nbformat": 3,
 "nbformat_minor": 0,
 "worksheets": [
  {
   "cells": [
    {
     "cell_type": "code",
     "collapsed": false,
     "input": [
      "%matplotlib inline"
     ],
     "language": "python",
     "metadata": {},
     "outputs": [],
     "prompt_number": 2
    },
    {
     "cell_type": "code",
     "collapsed": false,
     "input": [
      "import networkx as nx\n",
      "print nx.__version__"
     ],
     "language": "python",
     "metadata": {},
     "outputs": [
      {
       "output_type": "stream",
       "stream": "stdout",
       "text": [
        "1.8.1\n"
       ]
      }
     ],
     "prompt_number": 3
    },
    {
     "cell_type": "markdown",
     "metadata": {},
     "source": [
      "First, let's define a base undirected acyclic graph. We're assuming these relationships are defined externally."
     ]
    },
    {
     "cell_type": "code",
     "collapsed": false,
     "input": [
      "g = nx.Graph()\n",
      "g.add_edge('otu1', 'int1', weight=0.1)\n",
      "g.add_edge('otu2', 'int1', weight=0.2)\n",
      "g.add_edge('otu3', 'int2', weight=0.5)\n",
      "g.add_edge('otu4', 'int2', weight=0.7)\n",
      "g.add_edge('int1', 'int2', weight=0.3)"
     ],
     "language": "python",
     "metadata": {},
     "outputs": [],
     "prompt_number": 11
    },
    {
     "cell_type": "code",
     "collapsed": false,
     "input": [
      "nx.draw(g)"
     ],
     "language": "python",
     "metadata": {},
     "outputs": [
      {
       "metadata": {},
       "output_type": "display_data",
       "png": "[encoded data removed]",
       "text": [
        "<matplotlib.figure.Figure at 0x104c4df90>"
       ]
      }
     ],
     "prompt_number": 12
    },
    {
     "cell_type": "markdown",
     "metadata": {},
     "source": [
      "Next, let's setup our IDs and the corresponding counts for each sample."
     ]
    },
    {
     "cell_type": "code",
     "collapsed": false,
     "input": [
      "otu_ids = ['otu1', 'otu2', 'otu3', 'otu4']\n",
      "s1 = [1, 1, 0, 0]\n",
      "s2 = [1, 1, 1, 0]"
     ],
     "language": "python",
     "metadata": {},
     "outputs": [],
     "prompt_number": 13
    },
    {
     "cell_type": "code",
     "collapsed": false,
     "input": [
      "def _get_all_nodes(graph, tips):\n",
      "    \"\"\"Get all the nodes that connect the tips\"\"\"\n",
      "    nodes = set()\n",
      "    for i in range(len(tips) - 1):\n",
      "        nodes.update(set(nx.shortest_path(graph, source=tips[i], target=tips[i+1])))\n",
      "    return nodes\n",
      "\n",
      "def unweighted_unifrac_uag(u_counts, v_counts, otu_ids, graph):\n",
      "    \"\"\"Compute unweighted unifrac over an undirected acyclic graph\"\"\"\n",
      "    u_ids = [i for u, i in zip(u_counts, otu_ids) if u]\n",
      "    v_ids = [i for v, i in zip(v_counts, otu_ids) if v]\n",
      "    \n",
      "    u_nodes = _get_all_nodes(graph, u_ids)\n",
      "    v_nodes = _get_all_nodes(graph, v_ids)\n",
      "    \n",
      "    u_sg = graph.subgraph(u_nodes)\n",
      "    v_sg = graph.subgraph(v_nodes)\n",
      "    \n",
      "    unique_edges = set(u_sg.edges()).symmetric_difference(set(v_sg.edges()))\n",
      "    \n",
      "    total_sg = graph.subgraph(u_nodes | v_nodes)\n",
      "    unique_sg = graph.subgraph(set(flatten(unique_edges)))\n",
      "\n",
      "    return unique_sg.size(weight='weight') / total_sg.size(weight='weight')    "
     ],
     "language": "python",
     "metadata": {},
     "outputs": [],
     "prompt_number": 14
    },
    {
     "cell_type": "code",
     "collapsed": false,
     "input": [
      "unweighted_unifrac_uag(s1, s2, otu_ids, g)"
     ],
     "language": "python",
     "metadata": {},
     "outputs": [
      {
       "metadata": {},
       "output_type": "pyout",
       "prompt_number": 16,
       "text": [
        "0.7272727272727273"
       ]
      }
     ],
     "prompt_number": 16
    },
    {
     "cell_type": "code",
     "collapsed": false,
     "input": [],
     "language": "python",
     "metadata": {},
     "outputs": []
    }
   ],
   "metadata": {}
  }
 ]
}